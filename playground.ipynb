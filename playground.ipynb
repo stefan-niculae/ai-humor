{
 "cells": [
  {
   "cell_type": "markdown",
   "metadata": {},
   "source": [
    "## Get Data"
   ]
  },
  {
   "cell_type": "code",
   "execution_count": 1,
   "metadata": {},
   "outputs": [],
   "source": [
    "import requests\n",
    "import pandas as pd"
   ]
  },
  {
   "cell_type": "code",
   "execution_count": 2,
   "metadata": {},
   "outputs": [
    {
     "name": "stdout",
     "output_type": "stream",
     "text": [
      "CPU times: user 71.7 ms, sys: 10.6 ms, total: 82.3 ms\n",
      "Wall time: 1.38 s\n"
     ]
    }
   ],
   "source": [
    "%%time\n",
    "endpoint = 'https://api.pushshift.io/reddit/search/submission'\n",
    "params = dict(\n",
    "    subreddit='jokes',\n",
    "#     filter='title,body,score',\n",
    "    sort='desc',\n",
    "    sort_type='score',\n",
    "    limit=1_000,\n",
    ")\n",
    "\n",
    "response = requests.get(endpoint, params)\n",
    "content = response.json()\n",
    "jokes = pd.DataFrame(content['data'])[['title', 'selftext', 'score']]"
   ]
  },
  {
   "cell_type": "code",
   "execution_count": 3,
   "metadata": {},
   "outputs": [
    {
     "data": {
      "text/plain": [
       "999"
      ]
     },
     "execution_count": 3,
     "metadata": {},
     "output_type": "execute_result"
    }
   ],
   "source": [
    "jokes.dropna(inplace=True)\n",
    "len(jokes)"
   ]
  },
  {
   "cell_type": "code",
   "execution_count": 4,
   "metadata": {},
   "outputs": [
    {
     "data": {
      "text/html": [
       "<div>\n",
       "<style scoped>\n",
       "    .dataframe tbody tr th:only-of-type {\n",
       "        vertical-align: middle;\n",
       "    }\n",
       "\n",
       "    .dataframe tbody tr th {\n",
       "        vertical-align: top;\n",
       "    }\n",
       "\n",
       "    .dataframe thead th {\n",
       "        text-align: right;\n",
       "    }\n",
       "</style>\n",
       "<table border=\"1\" class=\"dataframe\">\n",
       "  <thead>\n",
       "    <tr style=\"text-align: right;\">\n",
       "      <th></th>\n",
       "      <th>title</th>\n",
       "      <th>selftext</th>\n",
       "      <th>score</th>\n",
       "    </tr>\n",
       "  </thead>\n",
       "  <tbody>\n",
       "    <tr>\n",
       "      <th>0</th>\n",
       "      <td>Calm down about the Net Neutrality thing...</td>\n",
       "      <td>Paying additional money to access certain site...</td>\n",
       "      <td>122825</td>\n",
       "    </tr>\n",
       "    <tr>\n",
       "      <th>1</th>\n",
       "      <td>V</td>\n",
       "      <td>V\\n\\n*Edit: seems like the ctrl key on my keyb...</td>\n",
       "      <td>95020</td>\n",
       "    </tr>\n",
       "    <tr>\n",
       "      <th>2</th>\n",
       "      <td>The only two white actors in Black Panther are...</td>\n",
       "      <td>They're the Tolkien white guys.\\n\\nEdit: Appar...</td>\n",
       "      <td>87338</td>\n",
       "    </tr>\n",
       "    <tr>\n",
       "      <th>3</th>\n",
       "      <td>Ajit Pai.</td>\n",
       "      <td>That's it. That's the whole fucking joke.\\n\\nE...</td>\n",
       "      <td>85664</td>\n",
       "    </tr>\n",
       "    <tr>\n",
       "      <th>4</th>\n",
       "      <td>The 2016 US Presidential Election</td>\n",
       "      <td>That's it. That's the entire fucking joke. \\n\\...</td>\n",
       "      <td>81258</td>\n",
       "    </tr>\n",
       "    <tr>\n",
       "      <th>5</th>\n",
       "      <td>Did you hear about the Doctor on the United Fl...</td>\n",
       "      <td>[removed]</td>\n",
       "      <td>78292</td>\n",
       "    </tr>\n",
       "    <tr>\n",
       "      <th>6</th>\n",
       "      <td>If I had a $ for every post I've seen today ab...</td>\n",
       "      <td>I'd have enough money to view a post next year...</td>\n",
       "      <td>77418</td>\n",
       "    </tr>\n",
       "    <tr>\n",
       "      <th>7</th>\n",
       "      <td>Everyone in Hawaii is mad about the malfunctio...</td>\n",
       "      <td>Hawaii **IS** the early warning system.</td>\n",
       "      <td>74636</td>\n",
       "    </tr>\n",
       "    <tr>\n",
       "      <th>8</th>\n",
       "      <td>I hate when people ask how I see myself in 3 y...</td>\n",
       "      <td>I don’t have 2020 vision\\n\\nThis is the only d...</td>\n",
       "      <td>70921</td>\n",
       "    </tr>\n",
       "    <tr>\n",
       "      <th>9</th>\n",
       "      <td>This is the dirty joke my 85yo grandad told to...</td>\n",
       "      <td>A male whale and a female whale were swimming ...</td>\n",
       "      <td>67054</td>\n",
       "    </tr>\n",
       "  </tbody>\n",
       "</table>\n",
       "</div>"
      ],
      "text/plain": [
       "                                               title  \\\n",
       "0        Calm down about the Net Neutrality thing...   \n",
       "1                                                  V   \n",
       "2  The only two white actors in Black Panther are...   \n",
       "3                                          Ajit Pai.   \n",
       "4                  The 2016 US Presidential Election   \n",
       "5  Did you hear about the Doctor on the United Fl...   \n",
       "6  If I had a $ for every post I've seen today ab...   \n",
       "7  Everyone in Hawaii is mad about the malfunctio...   \n",
       "8  I hate when people ask how I see myself in 3 y...   \n",
       "9  This is the dirty joke my 85yo grandad told to...   \n",
       "\n",
       "                                            selftext   score  \n",
       "0  Paying additional money to access certain site...  122825  \n",
       "1  V\\n\\n*Edit: seems like the ctrl key on my keyb...   95020  \n",
       "2  They're the Tolkien white guys.\\n\\nEdit: Appar...   87338  \n",
       "3  That's it. That's the whole fucking joke.\\n\\nE...   85664  \n",
       "4  That's it. That's the entire fucking joke. \\n\\...   81258  \n",
       "5                                          [removed]   78292  \n",
       "6  I'd have enough money to view a post next year...   77418  \n",
       "7            Hawaii **IS** the early warning system.   74636  \n",
       "8  I don’t have 2020 vision\\n\\nThis is the only d...   70921  \n",
       "9  A male whale and a female whale were swimming ...   67054  "
      ]
     },
     "execution_count": 4,
     "metadata": {},
     "output_type": "execute_result"
    }
   ],
   "source": [
    "jokes[:10]"
   ]
  },
  {
   "cell_type": "markdown",
   "metadata": {},
   "source": [
    "## Cleanup"
   ]
  },
  {
   "cell_type": "code",
   "execution_count": 5,
   "metadata": {},
   "outputs": [],
   "source": [
    "from collections import Counter\n",
    "import numpy as np"
   ]
  },
  {
   "cell_type": "markdown",
   "metadata": {},
   "source": [
    "Join title & body"
   ]
  },
  {
   "cell_type": "code",
   "execution_count": 6,
   "metadata": {},
   "outputs": [],
   "source": [
    "jokes['text'] = jokes.title + ' … ' + jokes.selftext  # it's a single character, the elipsis: to make it easier to learn"
   ]
  },
  {
   "cell_type": "markdown",
   "metadata": {},
   "source": [
    "Cut off uncommon characters"
   ]
  },
  {
   "cell_type": "code",
   "execution_count": 7,
   "metadata": {},
   "outputs": [],
   "source": [
    "# turn newlines into blanks, keep only one type of quotes, colons, brackets, dash\n",
    "jokes.text = jokes.text.str.lower()\n",
    "jokes.text = jokes.text.apply(lambda t: t\\\n",
    "                              .replace('\\n', ' ')\\\n",
    "                              .replace(\"’\", \"'\").replace('“', \"'\").replace('”', \"'\").replace('\"', \"'\")\\\n",
    "                              .replace(';', ':')\\\n",
    "                              .replace('[', '(').replace(']', ')').replace('{', '(').replace('}', ')')\n",
    "                              .replace('_', '-')\n",
    "                             )"
   ]
  },
  {
   "cell_type": "code",
   "execution_count": 8,
   "metadata": {},
   "outputs": [
    {
     "data": {
      "text/plain": [
       "'382,362 characters in total'"
      ]
     },
     "execution_count": 8,
     "metadata": {},
     "output_type": "execute_result"
    }
   ],
   "source": [
    "corpus = ''.join(jokes.text)\n",
    "f'{len(corpus):,} characters in total'"
   ]
  },
  {
   "cell_type": "code",
   "execution_count": 9,
   "metadata": {},
   "outputs": [
    {
     "data": {
      "text/plain": [
       "0.09052677828863746"
      ]
     },
     "execution_count": 9,
     "metadata": {},
     "output_type": "execute_result"
    }
   ],
   "source": [
    "char_freq = pd.Series(Counter(corpus))\n",
    "char_freq['e'] / len(corpus)  # most frequent letter in the english language"
   ]
  },
  {
   "cell_type": "code",
   "execution_count": 10,
   "metadata": {},
   "outputs": [
    {
     "name": "stdout",
     "output_type": "stream",
     "text": [
      "Allowed characters (50):\n",
      " \n",
      "! $ ' ( ) * , - . /\n",
      "0 1 2 3 4 5 6 7 8 9\n",
      ": ? a b c d e f g h\n",
      "i j k l m n o p q r\n",
      "s t u v w x y z … "
     ]
    }
   ],
   "source": [
    "min_freq = len(corpus) * 0.0001  # at least 0.01%\n",
    "allowed_chars = ''.join(char_freq[char_freq > min_freq].sort_index().index)\n",
    "\n",
    "print(f'Allowed characters ({len(allowed_chars)}):')\n",
    "for i, c in enumerate(allowed_chars):\n",
    "    print(c, end=' ' if i % 10 else '\\n')"
   ]
  },
  {
   "cell_type": "code",
   "execution_count": 11,
   "metadata": {},
   "outputs": [
    {
     "data": {
      "text/plain": [
       "True"
      ]
     },
     "execution_count": 11,
     "metadata": {},
     "output_type": "execute_result"
    }
   ],
   "source": [
    "' ' in allowed_chars"
   ]
  },
  {
   "cell_type": "code",
   "execution_count": 12,
   "metadata": {},
   "outputs": [],
   "source": [
    "jokes.text = jokes.text.apply(lambda t: ''.join(filter(lambda c: c in allowed_chars, t)))"
   ]
  },
  {
   "cell_type": "markdown",
   "metadata": {},
   "source": [
    "Cut-off outlier lengths"
   ]
  },
  {
   "cell_type": "code",
   "execution_count": 13,
   "metadata": {},
   "outputs": [
    {
     "data": {
      "text/plain": [
       "count     999.000000\n",
       "mean      382.609610\n",
       "std       637.148444\n",
       "min        11.000000\n",
       "1%         40.980000\n",
       "20%        87.000000\n",
       "25%        96.000000\n",
       "50%       148.000000\n",
       "75%       422.500000\n",
       "98%      1952.480000\n",
       "99%      2391.560000\n",
       "max      9149.000000\n",
       "Name: text, dtype: float64"
      ]
     },
     "execution_count": 13,
     "metadata": {},
     "output_type": "execute_result"
    }
   ],
   "source": [
    "lengths = jokes.text.str.len()\n",
    "lengths.describe([.01, .2, .25, .5, .75, .98, .99])"
   ]
  },
  {
   "cell_type": "code",
   "execution_count": 14,
   "metadata": {},
   "outputs": [],
   "source": [
    "min_len = np.quantile(lengths, .05)  # cut the  5% shortest ones\n",
    "max_len = np.quantile(lengths, .75)  # and the 25% longest ones\n",
    "valid_size_mask = (min_len < lengths) & (lengths < max_len)"
   ]
  },
  {
   "cell_type": "code",
   "execution_count": 15,
   "metadata": {},
   "outputs": [
    {
     "data": {
      "text/plain": [
       "699"
      ]
     },
     "execution_count": 15,
     "metadata": {},
     "output_type": "execute_result"
    }
   ],
   "source": [
    "curated = jokes[valid_size_mask]\n",
    "len(curated)"
   ]
  },
  {
   "cell_type": "markdown",
   "metadata": {},
   "source": [
    "## Explore Data"
   ]
  },
  {
   "cell_type": "code",
   "execution_count": 16,
   "metadata": {},
   "outputs": [],
   "source": [
    "import matplotlib.pyplot as plt\n",
    "import seaborn as sns\n",
    "\n",
    "from matplotlib import rcParams\n",
    "%matplotlib inline"
   ]
  },
  {
   "cell_type": "code",
   "execution_count": 17,
   "metadata": {},
   "outputs": [],
   "source": [
    "rcParams['figure.figsize'] = 8, 6"
   ]
  },
  {
   "cell_type": "code",
   "execution_count": 18,
   "metadata": {},
   "outputs": [],
   "source": [
    "import warnings\n",
    "warnings.filterwarnings(\"ignore\")  # unmaintained libs trigger deprecation warnings :("
   ]
  },
  {
   "cell_type": "markdown",
   "metadata": {},
   "source": [
    "---"
   ]
  },
  {
   "cell_type": "code",
   "execution_count": 19,
   "metadata": {},
   "outputs": [
    {
     "data": {
      "image/png": "[encoded data removed]",
      "text/plain": [
       "<Figure size 576x432 with 1 Axes>"
      ]
     },
     "metadata": {
      "needs_background": "light"
     },
     "output_type": "display_data"
    }
   ],
   "source": [
    "curated.text.str.len().hist(bins=int(np.sqrt(len(curated))))\n",
    "plt.xlabel('Joke Length')\n",
    "plt.ylabel('Number of Jokes')\n",
    "plt.show()"
   ]
  },
  {
   "cell_type": "markdown",
   "metadata": {},
   "source": [
    "So many of them are short"
   ]
  },
  {
   "cell_type": "code",
   "execution_count": 20,
   "metadata": {},
   "outputs": [
    {
     "data": {
      "image/png": "[encoded data removed]",
      "text/plain": [
       "<Figure size 576x432 with 1 Axes>"
      ]
     },
     "metadata": {
      "needs_background": "light"
     },
     "output_type": "display_data"
    }
   ],
   "source": [
    "curated['text_len'] = curated.text.str.len()\n",
    "score_by_len = curated.groupby('text_len').score.mean()\n",
    "sns.regplot(score_by_len.index.values, score_by_len.values)\n",
    "\n",
    "plt.xlabel('Joke Length')\n",
    "plt.ylabel('Joke Score')\n",
    "plt.show()"
   ]
  },
  {
   "cell_type": "markdown",
   "metadata": {},
   "source": [
    "## Prepare"
   ]
  },
  {
   "cell_type": "markdown",
   "metadata": {},
   "source": [
    "Each joke is going to be cut into multiple semi-redundant chunks, eg: \"_Why did the chicken cross?_\" will generate the following:\n",
    "     - Why did the\n",
    "     - did the chi\n",
    "     - the chicken\n",
    "     - chicken cro\n",
    "     - cken cross?\n",
    "     \n",
    "Meaning `seq_len = 11` and `seq_step = 4`\n",
    "     \n",
    "The model will be trained to predict the next character, given a chunk, eg:\n",
    " - \"_Why did the_\" should make the model predict (blank)\n",
    " - \"_did the chi_\" should make the model predict **c**"
   ]
  },
  {
   "cell_type": "code",
   "execution_count": 37,
   "metadata": {},
   "outputs": [
    {
     "data": {
      "text/plain": [
       "60"
      ]
     },
     "execution_count": 37,
     "metadata": {},
     "output_type": "execute_result"
    }
   ],
   "source": [
    "shortest = curated.text.str.len().min()\n",
    "shortest"
   ]
  },
  {
   "cell_type": "code",
   "execution_count": 60,
   "metadata": {},
   "outputs": [
    {
     "name": "stdout",
     "output_type": "stream",
     "text": [
      "CPU times: user 42 ms, sys: 1.61 ms, total: 43.6 ms\n",
      "Wall time: 42.4 ms\n"
     ]
    }
   ],
   "source": [
    "%%time\n",
    "# cut the text in semi-redundant chunks\n",
    "seq_len = shortest // 3\n",
    "seq_step = 2\n",
    "\n",
    "chunk_next_pairs = []  # each joke will have multiple (text chunk, next character) pairs\n",
    "\n",
    "for joke in curated.text:\n",
    "    pairs = []  # current joke's pairs\n",
    "    for i in range(0, len(joke) - seq_len, seq_step):\n",
    "        pairs.append((\n",
    "            joke[i : i + seq_len], \n",
    "            joke[i + seq_len]\n",
    "        ))\n",
    "    if i < len(joke) - seq_len - 1:  # for the last chunk, that is too short to make a full chunk of its own\n",
    "        pairs.append((\n",
    "            joke[-seq_len - 1 : -1], \n",
    "            joke[-1]\n",
    "        ))\n",
    "    chunk_next_pairs.append(pairs)"
   ]
  },
  {
   "cell_type": "code",
   "execution_count": 61,
   "metadata": {},
   "outputs": [
    {
     "data": {
      "text/plain": [
       "'46,077 total text chunks/next char pairs'"
      ]
     },
     "execution_count": 61,
     "metadata": {},
     "output_type": "execute_result"
    }
   ],
   "source": [
    "f'{sum(map(len, chunk_next_pairs)):,} total text chunks/next char pairs'"
   ]
  },
  {
   "cell_type": "markdown",
   "metadata": {},
   "source": [
    "---"
   ]
  },
  {
   "cell_type": "markdown",
   "metadata": {},
   "source": [
    "Character-wise one hot encoding "
   ]
  },
  {
   "cell_type": "code",
   "execution_count": 62,
   "metadata": {},
   "outputs": [],
   "source": [
    "char2idx = {c: i for i, c in enumerate(allowed_chars)}\n",
    "idx2char = {i: c for i, c in enumerate(allowed_chars)}"
   ]
  },
  {
   "cell_type": "code",
   "execution_count": 63,
   "metadata": {},
   "outputs": [],
   "source": [
    "n_chars = len(allowed_chars)"
   ]
  },
  {
   "cell_type": "code",
   "execution_count": 64,
   "metadata": {},
   "outputs": [
    {
     "name": "stdout",
     "output_type": "stream",
     "text": [
      "CPU times: user 280 ms, sys: 9.1 ms, total: 289 ms\n",
      "Wall time: 285 ms\n"
     ]
    }
   ],
   "source": [
    "%%time\n",
    "# one-hot encode\n",
    "jokes_data = []  # each will joke will have an input x and an output y (both same length, and holding the char ohe)\n",
    "\n",
    "for curr_joke_pairs in chunk_next_pairs:\n",
    "    x = np.zeros((len(curr_joke_pairs), seq_len, n_chars), dtype=bool)\n",
    "    y = np.zeros((len(curr_joke_pairs), n_chars), dtype=bool)\n",
    "\n",
    "    for i, (text_chunk, next_char) in enumerate(curr_joke_pairs):\n",
    "        for t, curr_char in enumerate(text_chunk):\n",
    "            x[i, t, char2idx[curr_char]] = 1\n",
    "        y[i, char2idx[next_char]] = 1\n",
    "        \n",
    "    jokes_data.append((x, y))"
   ]
  },
  {
   "cell_type": "markdown",
   "metadata": {},
   "source": [
    "## Build Model"
   ]
  },
  {
   "cell_type": "code",
   "execution_count": 65,
   "metadata": {},
   "outputs": [],
   "source": [
    "from keras.models import Sequential\n",
    "from keras.layers import Dense, LSTM, Bidirectional\n",
    "from keras.optimizers import RMSprop"
   ]
  },
  {
   "cell_type": "code",
   "execution_count": 69,
   "metadata": {},
   "outputs": [],
   "source": [
    "batch_size = 1  # TODO try larger (need the number of chunks to be divisible by it though, because of being stateful)"
   ]
  },
  {
   "cell_type": "code",
   "execution_count": 70,
   "metadata": {},
   "outputs": [],
   "source": [
    "# build model\n",
    "model = Sequential([\n",
    "    LSTM(128, batch_input_shape=(batch_size, seq_len, n_chars), stateful=True),\n",
    "    Dense(n_chars, activation='softmax')\n",
    "])\n",
    "model.compile(loss='categorical_crossentropy', \n",
    "              optimizer=RMSprop(lr=0.01))"
   ]
  },
  {
   "cell_type": "markdown",
   "metadata": {},
   "source": [
    "## Train"
   ]
  },
  {
   "cell_type": "code",
   "execution_count": 137,
   "metadata": {},
   "outputs": [],
   "source": [
    "import sys\n",
    "import random\n",
    "\n",
    "from keras.callbacks import LambdaCallback"
   ]
  },
  {
   "cell_type": "code",
   "execution_count": 131,
   "metadata": {},
   "outputs": [],
   "source": [
    "def sample_probas(preds, temperature=1.0):\n",
    "    \"\"\" Sample an index from a probability array \"\"\"\n",
    "    preds = np.asarray(preds).astype('float64')\n",
    "    preds = np.log(preds) / temperature\n",
    "    exp_preds = np.exp(preds)\n",
    "    preds = exp_preds / np.sum(exp_preds)\n",
    "    probas = np.random.multinomial(1, preds, 1)\n",
    "    return np.argmax(probas)"
   ]
  },
  {
   "cell_type": "code",
   "execution_count": 147,
   "metadata": {},
   "outputs": [],
   "source": [
    "def generate_joke(model, corpus):  # `epoch` and `logs` are keras callback arguments\n",
    "    \"\"\" Generate jokes with different diversities \"\"\"\n",
    "    start_index = random.randint(0, len(corpus) - seq_len - 1)\n",
    "    seed: str = corpus[start_index : start_index + seq_len]\n",
    "    print(f'Generating with seed: \"{seed}\"')\n",
    "    \n",
    "    for diversity in [0.25, 0.5, 1.0, 1.25]:\n",
    "        print(f'\\n\\nDiversity {diversity}')\n",
    "        length = random.randint(100, 300)\n",
    "        current_input = seed\n",
    "        \n",
    "        for _ in range(length):\n",
    "            # one hot encoding of current input\n",
    "            x = np.zeros((1, seq_len, n_chars), dtype=bool)\n",
    "            for t, char in enumerate(current_input):\n",
    "                x[0, t, char2idx[char]] = 1\n",
    "\n",
    "            preds = model.predict(x, verbose=0)[0]\n",
    "            next_char_index = sample_probas(preds, diversity)\n",
    "            next_char = idx2char[next_char_index]\n",
    "\n",
    "            current_input = current_input[1:] + next_char  # rotate and append\n",
    "\n",
    "            print(next_char, end='')\n",
    "            sys.stdout.flush()"
   ]
  },
  {
   "cell_type": "code",
   "execution_count": 154,
   "metadata": {},
   "outputs": [],
   "source": [
    "n_epochs = 10\n",
    "n_jokes = 5"
   ]
  },
  {
   "cell_type": "code",
   "execution_count": 158,
   "metadata": {},
   "outputs": [
    {
     "name": "stdout",
     "output_type": "stream",
     "text": [
      "Epoch 1 / 10\n",
      "Joke 5 / 5\n",
      "\n",
      "Generating with seed: \"'   blushing, the ag\"\n",
      "\n",
      "\n",
      "Diversity 0.25\n",
      "en llle in thing in  orll worlle thall an worll worll wing n an llen the a lall an thing worllle worll woren lle in llee lere an thin thin st wor lan lle an wo and wan ll an than lle and wo wo wore the an lle worlle wan than llllle in lal\n",
      "\n",
      "Diversity 0.5\n",
      "et worll thing n won ant is t. wan l w all an towing hoot inn wan  in ant itathhing o whan s wond wing inll all wo woring ll iten sal llowen man ing lit wo wan to wan lle wor to lenten forll iing se llen thill wan s\n",
      "\n",
      "Diversity 1.0\n",
      "enll are bomat neitn he. a ting nme toand ing owh int ition led intlen iont went hand obing . thelllill i latilst ng mrt woin th. th bare  thing ll ber. … n wad and whe lt so a thennt town p i fooon llere a l llaherllilled. that whal thcill tht ico\n",
      "\n",
      "Diversity 1.25\n",
      "td fes thanl nry all ilat nbie lele betl in ligon wor nr lent beth. wer ollllter amah leesend ae townre plding i oange. … foort and weng ' to inge. … matssp msomen an thiiin llrelf... … … a foihero\n",
      "\n",
      "Epoch 2 / 10\n",
      "Joke 5 / 5\n",
      "\n",
      "Generating with seed: \"usa so cheaply.  the\"\n",
      "\n",
      "\n",
      "Diversity 0.25\n",
      " the the i the the the the i the in the are the i  i s the the the the the the it a the it i the i the the the the i the the it the i the the in the the the an the the in the the the orer the ther are the the the the the the i the the i the it i the it in the the the the th\n",
      "\n",
      "Diversity 0.5\n",
      " it a i the er it arit  erer her an the  a the the seg the is a thin thit  or the in therer i in in't the a the i t i thi\n",
      "\n",
      "Diversity 1.0\n",
      "  the ery the irnen the  on thert son rre  there on'' the the it geer no iillle f i thong ier n and serl  egheg  ii  thern'  a toi the feerde't a  i\n",
      "\n",
      "Diversity 1.25\n",
      " thelt atneend … them tend a ilin' erin'o fno  ha gogg  ther sne  cehrs the kearl' ild iest thy  i eeet igor the that\n",
      "\n",
      "Epoch 3 / 10\n",
      "Joke 5 / 5\n",
      "\n",
      "Generating with seed: \"flowers for valentin\"\n",
      "\n",
      "\n",
      "Diversity 0.25\n",
      " the the the the the the salle the the the a the the calll a the the a the coullin coullllll t a the coulle the coullllll allit s a the a the a sallll a the the the sallllllll the the the co at a the lat a the coulle the the sat the a the the the the a the the the lat coull a the\n",
      "\n",
      "Diversity 0.5\n",
      " chall a st on the the a the the the the a that the ma n a a st a the an llallllll at lat the cou a th se the a t a the lat a  so the a i a a a  an sthalllll t an can the the the the i thed the salle the the lle the th\n",
      "\n",
      "Diversity 1.0\n",
      " n csat the ss the i sac a siet t st it ca coul n i ses te can coulli. … … cout in coo tht sad oet a nocnt at han a san the a didt a that a a thit thas cout cout bid i din cin usm o\n",
      "\n",
      "Diversity 1.25\n",
      " rre est on the you aallir isd  nayts  lat erl. …  to in fer the. … sorossllls deouels a s  dall ll an th fent oul. … the cal ed the a tit di s ill an  i ofate ca. … seot fa tht to \n",
      "\n",
      "Epoch 4 / 10\n",
      "Joke 5 / 5\n",
      "\n",
      "Generating with seed: \"son's: nope!   in de\"\n",
      "\n",
      "\n",
      "Diversity 0.25\n",
      " ad an the an tring i the the wing the an the an angs ang i the the the and angsan tring"
     ]
    },
    {
     "ename": "KeyboardInterrupt",
     "evalue": "",
     "output_type": "error",
     "traceback": [
      "\u001b[0;31m---------------------------------------------------------------------------\u001b[0m",
      "\u001b[0;31mKeyboardInterrupt\u001b[0m                         Traceback (most recent call last)",
      "\u001b[0;32m<timed exec>\u001b[0m in \u001b[0;36m<module>\u001b[0;34m\u001b[0m\n",
      "\u001b[0;32m<ipython-input-147-d1b2af4bae34>\u001b[0m in \u001b[0;36mgenerate_joke\u001b[0;34m(model, corpus)\u001b[0m\n\u001b[1;32m     16\u001b[0m                 \u001b[0mx\u001b[0m\u001b[0;34m[\u001b[0m\u001b[0;36m0\u001b[0m\u001b[0;34m,\u001b[0m \u001b[0mt\u001b[0m\u001b[0;34m,\u001b[0m \u001b[0mchar2idx\u001b[0m\u001b[0;34m[\u001b[0m\u001b[0mchar\u001b[0m\u001b[0;34m]\u001b[0m\u001b[0;34m]\u001b[0m \u001b[0;34m=\u001b[0m \u001b[0;36m1\u001b[0m\u001b[0;34m\u001b[0m\u001b[0m\n\u001b[1;32m     17\u001b[0m \u001b[0;34m\u001b[0m\u001b[0m\n\u001b[0;32m---> 18\u001b[0;31m             \u001b[0mpreds\u001b[0m \u001b[0;34m=\u001b[0m \u001b[0mmodel\u001b[0m\u001b[0;34m.\u001b[0m\u001b[0mpredict\u001b[0m\u001b[0;34m(\u001b[0m\u001b[0mx\u001b[0m\u001b[0;34m,\u001b[0m \u001b[0mverbose\u001b[0m\u001b[0;34m=\u001b[0m\u001b[0;36m0\u001b[0m\u001b[0;34m)\u001b[0m\u001b[0;34m[\u001b[0m\u001b[0;36m0\u001b[0m\u001b[0;34m]\u001b[0m\u001b[0;34m\u001b[0m\u001b[0m\n\u001b[0m\u001b[1;32m     19\u001b[0m             \u001b[0mnext_char_index\u001b[0m \u001b[0;34m=\u001b[0m \u001b[0msample_probas\u001b[0m\u001b[0;34m(\u001b[0m\u001b[0mpreds\u001b[0m\u001b[0;34m,\u001b[0m \u001b[0mdiversity\u001b[0m\u001b[0;34m)\u001b[0m\u001b[0;34m\u001b[0m\u001b[0m\n\u001b[1;32m     20\u001b[0m             \u001b[0mnext_char\u001b[0m \u001b[0;34m=\u001b[0m \u001b[0midx2char\u001b[0m\u001b[0;34m[\u001b[0m\u001b[0mnext_char_index\u001b[0m\u001b[0;34m]\u001b[0m\u001b[0;34m\u001b[0m\u001b[0m\n",
      "\u001b[0;32m~/.virtualenvs/humor/lib/python3.6/site-packages/keras/engine/training.py\u001b[0m in \u001b[0;36mpredict\u001b[0;34m(self, x, batch_size, verbose, steps)\u001b[0m\n\u001b[1;32m   1165\u001b[0m                                             \u001b[0mbatch_size\u001b[0m\u001b[0;34m=\u001b[0m\u001b[0mbatch_size\u001b[0m\u001b[0;34m,\u001b[0m\u001b[0;34m\u001b[0m\u001b[0m\n\u001b[1;32m   1166\u001b[0m                                             \u001b[0mverbose\u001b[0m\u001b[0;34m=\u001b[0m\u001b[0mverbose\u001b[0m\u001b[0;34m,\u001b[0m\u001b[0;34m\u001b[0m\u001b[0m\n\u001b[0;32m-> 1167\u001b[0;31m                                             steps=steps)\n\u001b[0m\u001b[1;32m   1168\u001b[0m \u001b[0;34m\u001b[0m\u001b[0m\n\u001b[1;32m   1169\u001b[0m     def train_on_batch(self, x, y,\n",
      "\u001b[0;32m~/.virtualenvs/humor/lib/python3.6/site-packages/keras/engine/training_arrays.py\u001b[0m in \u001b[0;36mpredict_loop\u001b[0;34m(model, f, ins, batch_size, verbose, steps)\u001b[0m\n\u001b[1;32m    292\u001b[0m                 \u001b[0mins_batch\u001b[0m\u001b[0;34m[\u001b[0m\u001b[0mi\u001b[0m\u001b[0;34m]\u001b[0m \u001b[0;34m=\u001b[0m \u001b[0mins_batch\u001b[0m\u001b[0;34m[\u001b[0m\u001b[0mi\u001b[0m\u001b[0;34m]\u001b[0m\u001b[0;34m.\u001b[0m\u001b[0mtoarray\u001b[0m\u001b[0;34m(\u001b[0m\u001b[0;34m)\u001b[0m\u001b[0;34m\u001b[0m\u001b[0m\n\u001b[1;32m    293\u001b[0m \u001b[0;34m\u001b[0m\u001b[0m\n\u001b[0;32m--> 294\u001b[0;31m             \u001b[0mbatch_outs\u001b[0m \u001b[0;34m=\u001b[0m \u001b[0mf\u001b[0m\u001b[0;34m(\u001b[0m\u001b[0mins_batch\u001b[0m\u001b[0;34m)\u001b[0m\u001b[0;34m\u001b[0m\u001b[0m\n\u001b[0m\u001b[1;32m    295\u001b[0m             \u001b[0mbatch_outs\u001b[0m \u001b[0;34m=\u001b[0m \u001b[0mto_list\u001b[0m\u001b[0;34m(\u001b[0m\u001b[0mbatch_outs\u001b[0m\u001b[0;34m)\u001b[0m\u001b[0;34m\u001b[0m\u001b[0m\n\u001b[1;32m    296\u001b[0m             \u001b[0;32mif\u001b[0m \u001b[0mbatch_index\u001b[0m \u001b[0;34m==\u001b[0m \u001b[0;36m0\u001b[0m\u001b[0;34m:\u001b[0m\u001b[0;34m\u001b[0m\u001b[0m\n",
      "\u001b[0;32m~/.virtualenvs/humor/lib/python3.6/site-packages/keras/backend/tensorflow_backend.py\u001b[0m in \u001b[0;36m__call__\u001b[0;34m(self, inputs)\u001b[0m\n\u001b[1;32m   2664\u001b[0m                 \u001b[0;32mreturn\u001b[0m \u001b[0mself\u001b[0m\u001b[0;34m.\u001b[0m\u001b[0m_legacy_call\u001b[0m\u001b[0;34m(\u001b[0m\u001b[0minputs\u001b[0m\u001b[0;34m)\u001b[0m\u001b[0;34m\u001b[0m\u001b[0m\n\u001b[1;32m   2665\u001b[0m \u001b[0;34m\u001b[0m\u001b[0m\n\u001b[0;32m-> 2666\u001b[0;31m             \u001b[0;32mreturn\u001b[0m \u001b[0mself\u001b[0m\u001b[0;34m.\u001b[0m\u001b[0m_call\u001b[0m\u001b[0;34m(\u001b[0m\u001b[0minputs\u001b[0m\u001b[0;34m)\u001b[0m\u001b[0;34m\u001b[0m\u001b[0m\n\u001b[0m\u001b[1;32m   2667\u001b[0m         \u001b[0;32melse\u001b[0m\u001b[0;34m:\u001b[0m\u001b[0;34m\u001b[0m\u001b[0m\n\u001b[1;32m   2668\u001b[0m             \u001b[0;32mif\u001b[0m \u001b[0mpy_any\u001b[0m\u001b[0;34m(\u001b[0m\u001b[0mis_tensor\u001b[0m\u001b[0;34m(\u001b[0m\u001b[0mx\u001b[0m\u001b[0;34m)\u001b[0m \u001b[0;32mfor\u001b[0m \u001b[0mx\u001b[0m \u001b[0;32min\u001b[0m \u001b[0minputs\u001b[0m\u001b[0;34m)\u001b[0m\u001b[0;34m:\u001b[0m\u001b[0;34m\u001b[0m\u001b[0m\n",
      "\u001b[0;32m~/.virtualenvs/humor/lib/python3.6/site-packages/keras/backend/tensorflow_backend.py\u001b[0m in \u001b[0;36m_call\u001b[0;34m(self, inputs)\u001b[0m\n\u001b[1;32m   2634\u001b[0m                                 \u001b[0msymbol_vals\u001b[0m\u001b[0;34m,\u001b[0m\u001b[0;34m\u001b[0m\u001b[0m\n\u001b[1;32m   2635\u001b[0m                                 session)\n\u001b[0;32m-> 2636\u001b[0;31m         \u001b[0mfetched\u001b[0m \u001b[0;34m=\u001b[0m \u001b[0mself\u001b[0m\u001b[0;34m.\u001b[0m\u001b[0m_callable_fn\u001b[0m\u001b[0;34m(\u001b[0m\u001b[0;34m*\u001b[0m\u001b[0marray_vals\u001b[0m\u001b[0;34m)\u001b[0m\u001b[0;34m\u001b[0m\u001b[0m\n\u001b[0m\u001b[1;32m   2637\u001b[0m         \u001b[0;32mreturn\u001b[0m \u001b[0mfetched\u001b[0m\u001b[0;34m[\u001b[0m\u001b[0;34m:\u001b[0m\u001b[0mlen\u001b[0m\u001b[0;34m(\u001b[0m\u001b[0mself\u001b[0m\u001b[0;34m.\u001b[0m\u001b[0moutputs\u001b[0m\u001b[0;34m)\u001b[0m\u001b[0;34m]\u001b[0m\u001b[0;34m\u001b[0m\u001b[0m\n\u001b[1;32m   2638\u001b[0m \u001b[0;34m\u001b[0m\u001b[0m\n",
      "\u001b[0;32m~/.virtualenvs/humor/lib/python3.6/site-packages/tensorflow/python/client/session.py\u001b[0m in \u001b[0;36m__call__\u001b[0;34m(self, *args, **kwargs)\u001b[0m\n\u001b[1;32m   1397\u001b[0m           ret = tf_session.TF_SessionRunCallable(\n\u001b[1;32m   1398\u001b[0m               \u001b[0mself\u001b[0m\u001b[0;34m.\u001b[0m\u001b[0m_session\u001b[0m\u001b[0;34m.\u001b[0m\u001b[0m_session\u001b[0m\u001b[0;34m,\u001b[0m \u001b[0mself\u001b[0m\u001b[0;34m.\u001b[0m\u001b[0m_handle\u001b[0m\u001b[0;34m,\u001b[0m \u001b[0margs\u001b[0m\u001b[0;34m,\u001b[0m \u001b[0mstatus\u001b[0m\u001b[0;34m,\u001b[0m\u001b[0;34m\u001b[0m\u001b[0m\n\u001b[0;32m-> 1399\u001b[0;31m               run_metadata_ptr)\n\u001b[0m\u001b[1;32m   1400\u001b[0m         \u001b[0;32mif\u001b[0m \u001b[0mrun_metadata\u001b[0m\u001b[0;34m:\u001b[0m\u001b[0;34m\u001b[0m\u001b[0m\n\u001b[1;32m   1401\u001b[0m           \u001b[0mproto_data\u001b[0m \u001b[0;34m=\u001b[0m \u001b[0mtf_session\u001b[0m\u001b[0;34m.\u001b[0m\u001b[0mTF_GetBuffer\u001b[0m\u001b[0;34m(\u001b[0m\u001b[0mrun_metadata_ptr\u001b[0m\u001b[0;34m)\u001b[0m\u001b[0;34m\u001b[0m\u001b[0m\n",
      "\u001b[0;31mKeyboardInterrupt\u001b[0m: "
     ]
    }
   ],
   "source": [
    "%%time\n",
    "for epoch in range(1, n_epochs+1):\n",
    "    print(f'Epoch {epoch} / {n_epochs}')\n",
    "    shuffled = random.sample(jokes_data, n_jokes)  # not-in-place shuffle of joke chunks kept together\n",
    "    \n",
    "    for i, (x, y) in enumerate(shuffled):\n",
    "        print('',end='\\r')\n",
    "        sys.stdout.write(f'\\rJoke {i+1} / {n_jokes}')\n",
    "        model.reset_states()  # clear up context before starting a new joke\n",
    "\n",
    "        history = model.fit(\n",
    "            x, y,\n",
    "            batch_size=batch_size,\n",
    "            epochs=1, verbose=False, shuffle=False\n",
    "        )\n",
    "\n",
    "    print('\\n')\n",
    "    generate_joke(model, corpus)\n",
    "    print('\\n')"
   ]
  },
  {
   "cell_type": "code",
   "execution_count": null,
   "metadata": {},
   "outputs": [],
   "source": [
    "\n",
    "\n",
    "\n",
    "\n",
    "\n",
    "\n",
    "\n",
    "\n",
    "\n",
    "\n",
    "\n",
    "\n",
    "\n",
    "\n",
    "\n",
    "\n",
    "\n",
    "\n",
    "\n",
    "\n",
    "\n",
    "\n",
    "\n",
    "\n",
    "\n",
    "\n",
    "\n",
    "\n",
    "\n",
    "\n",
    "\n",
    "\n",
    "\n",
    "\n",
    "\n",
    "\n",
    "\n",
    "\n",
    "\n",
    "\n",
    "\n",
    "\n",
    "\n",
    "\n",
    "\n",
    "\n",
    "\n"
   ]
  }
 ],
 "metadata": {
  "kernelspec": {
   "display_name": "Python 3",
   "language": "python",
   "name": "python3"
  },
  "language_info": {
   "codemirror_mode": {
    "name": "ipython",
    "version": 3
   },
   "file_extension": ".py",
   "mimetype": "text/x-python",
   "name": "python",
   "nbconvert_exporter": "python",
   "pygments_lexer": "ipython3",
   "version": "3.6.6"
  }
 },
 "nbformat": 4,
 "nbformat_minor": 2
}
